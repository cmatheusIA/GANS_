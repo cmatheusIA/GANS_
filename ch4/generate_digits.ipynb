{
 "cells": [
  {
   "cell_type": "code",
   "execution_count": 1,
   "metadata": {},
   "outputs": [
    {
     "name": "stdout",
     "output_type": "stream",
     "text": [
      "/bin/bash: /home/cmatheus/anaconda3/envs/tf-gans/lib/libtinfo.so.6: no version information available (required by /bin/bash)\n",
      "Requirement already satisfied: tensorflow-datasets in /home/cmatheus/anaconda3/envs/tf-gans/lib/python3.9/site-packages (4.8.2)\n",
      "Requirement already satisfied: etils[enp,epath]>=0.9.0 in /home/cmatheus/anaconda3/envs/tf-gans/lib/python3.9/site-packages (from tensorflow-datasets) (1.0.0)\n",
      "Requirement already satisfied: protobuf>=3.12.2 in /home/cmatheus/anaconda3/envs/tf-gans/lib/python3.9/site-packages (from tensorflow-datasets) (3.19.6)\n",
      "Requirement already satisfied: dill in /home/cmatheus/anaconda3/envs/tf-gans/lib/python3.9/site-packages (from tensorflow-datasets) (0.3.6)\n",
      "Requirement already satisfied: tensorflow-metadata in /home/cmatheus/anaconda3/envs/tf-gans/lib/python3.9/site-packages (from tensorflow-datasets) (1.12.0)\n",
      "Requirement already satisfied: psutil in /home/cmatheus/.local/lib/python3.9/site-packages (from tensorflow-datasets) (5.9.4)\n",
      "Requirement already satisfied: termcolor in /home/cmatheus/anaconda3/envs/tf-gans/lib/python3.9/site-packages (from tensorflow-datasets) (2.2.0)\n",
      "Requirement already satisfied: tqdm in /home/cmatheus/anaconda3/envs/tf-gans/lib/python3.9/site-packages (from tensorflow-datasets) (4.64.1)\n",
      "Requirement already satisfied: numpy in /home/cmatheus/anaconda3/envs/tf-gans/lib/python3.9/site-packages (from tensorflow-datasets) (1.24.2)\n",
      "Requirement already satisfied: wrapt in /home/cmatheus/anaconda3/envs/tf-gans/lib/python3.9/site-packages (from tensorflow-datasets) (1.14.1)\n",
      "Requirement already satisfied: click in /home/cmatheus/anaconda3/envs/tf-gans/lib/python3.9/site-packages (from tensorflow-datasets) (8.1.3)\n",
      "Requirement already satisfied: absl-py in /home/cmatheus/anaconda3/envs/tf-gans/lib/python3.9/site-packages (from tensorflow-datasets) (1.4.0)\n",
      "Requirement already satisfied: promise in /home/cmatheus/anaconda3/envs/tf-gans/lib/python3.9/site-packages (from tensorflow-datasets) (2.3)\n",
      "Requirement already satisfied: dm-tree in /home/cmatheus/anaconda3/envs/tf-gans/lib/python3.9/site-packages (from tensorflow-datasets) (0.1.8)\n",
      "Requirement already satisfied: toml in /home/cmatheus/anaconda3/envs/tf-gans/lib/python3.9/site-packages (from tensorflow-datasets) (0.10.2)\n",
      "Requirement already satisfied: requests>=2.19.0 in /home/cmatheus/anaconda3/envs/tf-gans/lib/python3.9/site-packages (from tensorflow-datasets) (2.28.2)\n",
      "Requirement already satisfied: zipp in /home/cmatheus/anaconda3/envs/tf-gans/lib/python3.9/site-packages (from etils[enp,epath]>=0.9.0->tensorflow-datasets) (3.13.0)\n",
      "Requirement already satisfied: importlib_resources in /home/cmatheus/anaconda3/envs/tf-gans/lib/python3.9/site-packages (from etils[enp,epath]>=0.9.0->tensorflow-datasets) (5.10.2)\n",
      "Requirement already satisfied: typing_extensions in /home/cmatheus/anaconda3/envs/tf-gans/lib/python3.9/site-packages (from etils[enp,epath]>=0.9.0->tensorflow-datasets) (4.5.0)\n",
      "Requirement already satisfied: urllib3<1.27,>=1.21.1 in /home/cmatheus/anaconda3/envs/tf-gans/lib/python3.9/site-packages (from requests>=2.19.0->tensorflow-datasets) (1.26.14)\n",
      "Requirement already satisfied: certifi>=2017.4.17 in /home/cmatheus/anaconda3/envs/tf-gans/lib/python3.9/site-packages (from requests>=2.19.0->tensorflow-datasets) (2022.12.7)\n",
      "Requirement already satisfied: charset-normalizer<4,>=2 in /home/cmatheus/anaconda3/envs/tf-gans/lib/python3.9/site-packages (from requests>=2.19.0->tensorflow-datasets) (3.0.1)\n",
      "Requirement already satisfied: idna<4,>=2.5 in /home/cmatheus/anaconda3/envs/tf-gans/lib/python3.9/site-packages (from requests>=2.19.0->tensorflow-datasets) (3.4)\n",
      "Requirement already satisfied: six in /home/cmatheus/anaconda3/envs/tf-gans/lib/python3.9/site-packages (from promise->tensorflow-datasets) (1.16.0)\n",
      "Requirement already satisfied: googleapis-common-protos<2,>=1.52.0 in /home/cmatheus/anaconda3/envs/tf-gans/lib/python3.9/site-packages (from tensorflow-metadata->tensorflow-datasets) (1.58.0)\n",
      "\n",
      "\u001b[1m[\u001b[0m\u001b[34;49mnotice\u001b[0m\u001b[1;39;49m]\u001b[0m\u001b[39;49m A new release of pip is available: \u001b[0m\u001b[31;49m23.0\u001b[0m\u001b[39;49m -> \u001b[0m\u001b[32;49m23.0.1\u001b[0m\n",
      "\u001b[1m[\u001b[0m\u001b[34;49mnotice\u001b[0m\u001b[1;39;49m]\u001b[0m\u001b[39;49m To update, run: \u001b[0m\u001b[32;49mpip install --upgrade pip\u001b[0m\n"
     ]
    }
   ],
   "source": [
    "!pip install tensorflow-datasets"
   ]
  },
  {
   "attachments": {},
   "cell_type": "markdown",
   "metadata": {},
   "source": [
    "* Vamos trabalhar com MNIST(Modified National Institute of Standards and Technology) da base de datasets do tensorflow\n",
    "* entender como RBM(Restricted Boltzmann Machine)- a simple neural network - é treinado para minimizar a \"energia \" equação que se assemelha a fórmulas de física para gerar imagens.\n",
    "* como empilhar varios RBMs para fazer uma DBN e aplicar forward e backward avançando para o pre treinamento da rede para gerar imagem\n",
    "* Como implementar classificardor fim-a-fim combinando o pre-treinado com backpropagation \"fine-tuning\" usando tf2 api"
   ]
  },
  {
   "cell_type": "code",
   "execution_count": 1,
   "metadata": {},
   "outputs": [],
   "source": [
    "import warnings\n",
    "warnings.filterwarnings(\"ignore\")"
   ]
  },
  {
   "cell_type": "code",
   "execution_count": 6,
   "metadata": {},
   "outputs": [],
   "source": [
    "from __future__ import absolute_import\n",
    "from __future__ import division\n",
    "from __future__ import print_function\n",
    "import matplotlib.pyplot as plt\n",
    "import numpy as np\n",
    "import tensorflow as tf\n",
    "import tensorflow_datasets as tfds"
   ]
  },
  {
   "cell_type": "code",
   "execution_count": 7,
   "metadata": {},
   "outputs": [],
   "source": [
    "# Aqui vamos realizar o download dos dados diretamento do GCS ( GOOGLE CLOUD STORE)\n",
    "mnist_builder = tfds.builder(\"mnist\")\n",
    "#mnist_builder.download_and_prepare()\n"
   ]
  },
  {
   "attachments": {},
   "cell_type": "markdown",
   "metadata": {},
   "source": [
    "verificando o dataset"
   ]
  },
  {
   "cell_type": "code",
   "execution_count": 8,
   "metadata": {},
   "outputs": [
    {
     "name": "stdout",
     "output_type": "stream",
     "text": [
      "tfds.core.DatasetInfo(\n",
      "    name='mnist',\n",
      "    full_name='mnist/3.0.1',\n",
      "    description=\"\"\"\n",
      "    The MNIST database of handwritten digits.\n",
      "    \"\"\",\n",
      "    homepage='http://yann.lecun.com/exdb/mnist/',\n",
      "    data_path='/home/cmatheus/tensorflow_datasets/mnist/3.0.1',\n",
      "    file_format=tfrecord,\n",
      "    download_size=11.06 MiB,\n",
      "    dataset_size=21.00 MiB,\n",
      "    features=FeaturesDict({\n",
      "        'image': Image(shape=(28, 28, 1), dtype=uint8),\n",
      "        'label': ClassLabel(shape=(), dtype=int64, num_classes=10),\n",
      "    }),\n",
      "    supervised_keys=('image', 'label'),\n",
      "    disable_shuffling=False,\n",
      "    splits={\n",
      "        'test': <SplitInfo num_examples=10000, num_shards=1>,\n",
      "        'train': <SplitInfo num_examples=60000, num_shards=1>,\n",
      "    },\n",
      "    citation=\"\"\"@article{lecun2010mnist,\n",
      "      title={MNIST handwritten digit database},\n",
      "      author={LeCun, Yann and Cortes, Corinna and Burges, CJ},\n",
      "      journal={ATT Labs [Online]. Available: http://yann.lecun.com/exdb/mnist},\n",
      "      volume={2},\n",
      "      year={2010}\n",
      "    }\"\"\",\n",
      ")\n"
     ]
    }
   ],
   "source": [
    "info = mnist_builder.info\n",
    "print(info)"
   ]
  },
  {
   "attachments": {},
   "cell_type": "markdown",
   "metadata": {},
   "source": [
    "podemos ver que o dataset de treino é composto por 60k de imagens de tamanho 28x28 e  o teste possui 10k com o mesmo tamanho."
   ]
  },
  {
   "attachments": {},
   "cell_type": "markdown",
   "metadata": {},
   "source": [
    "olhando o dataset de treino"
   ]
  },
  {
   "cell_type": "code",
   "execution_count": 9,
   "metadata": {},
   "outputs": [],
   "source": [
    "mnist_train = mnist_builder.as_dataset(split=\"train\")"
   ]
  },
  {
   "cell_type": "code",
   "execution_count": 10,
   "metadata": {},
   "outputs": [
    {
     "name": "stderr",
     "output_type": "stream",
     "text": [
      "2023-03-05 02:28:56.137426: W tensorflow/core/kernels/data/cache_dataset_ops.cc:856] The calling iterator did not fully read the dataset being cached. In order to avoid unexpected truncation of the dataset, the partially cached contents of the dataset  will be discarded. This can happen if you have an input pipeline similar to `dataset.cache().take(k).repeat()`. You should use `dataset.take(k).cache().repeat()` instead.\n"
     ]
    },
    {
     "data": {
      "image/png": "[encoded data removed]",
      "text/plain": [
       "<Figure size 900x900 with 9 Axes>"
      ]
     },
     "metadata": {},
     "output_type": "display_data"
    }
   ],
   "source": [
    "fig = tfds.show_examples(mnist_train,info)"
   ]
  },
  {
   "cell_type": "code",
   "execution_count": 11,
   "metadata": {},
   "outputs": [
    {
     "name": "stdout",
     "output_type": "stream",
     "text": [
      "Label: 4\n"
     ]
    },
    {
     "name": "stderr",
     "output_type": "stream",
     "text": [
      "2023-03-05 02:28:57.322477: W tensorflow/core/kernels/data/cache_dataset_ops.cc:856] The calling iterator did not fully read the dataset being cached. In order to avoid unexpected truncation of the dataset, the partially cached contents of the dataset  will be discarded. This can happen if you have an input pipeline similar to `dataset.cache().take(k).repeat()`. You should use `dataset.take(k).cache().repeat()` instead.\n",
      "2023-03-05 02:28:57.322766: W tensorflow/core/kernels/data/cache_dataset_ops.cc:856] The calling iterator did not fully read the dataset being cached. In order to avoid unexpected truncation of the dataset, the partially cached contents of the dataset  will be discarded. This can happen if you have an input pipeline similar to `dataset.cache().take(k).repeat()`. You should use `dataset.take(k).cache().repeat()` instead.\n"
     ]
    },
    {
     "data": {
      "image/png": "[encoded data removed]",
      "text/plain": [
       "<Figure size 640x480 with 1 Axes>"
      ]
     },
     "metadata": {},
     "output_type": "display_data"
    }
   ],
   "source": [
    "def flatten_img(x,label=True):\n",
    "    if label:\n",
    "        return (tf.divide(tf.dtypes.cast(tf.reshape(x[\"image\"],(1,28*28)),tf.float32),256.0),x[\"label\"])\n",
    "    else:\n",
    "        return (tf.divide(tf.dtypes.cast(tf.reshape(x[\"image\"],(1,28*28)),tf.float32),256.0))\n",
    "    \n",
    "for image, label in mnist_train.map(flatten_img).cache().take(1):\n",
    "    plt.imshow(image.numpy().astype(np.float32), cmap=plt.get_cmap(\"gray\"))\n",
    "    print(\"Label: %d\" % label.numpy())"
   ]
  },
  {
   "cell_type": "code",
   "execution_count": 12,
   "metadata": {},
   "outputs": [
    {
     "name": "stderr",
     "output_type": "stream",
     "text": [
      "2023-03-05 02:28:57.659061: W tensorflow/core/kernels/data/cache_dataset_ops.cc:856] The calling iterator did not fully read the dataset being cached. In order to avoid unexpected truncation of the dataset, the partially cached contents of the dataset  will be discarded. This can happen if you have an input pipeline similar to `dataset.cache().take(k).repeat()`. You should use `dataset.take(k).cache().repeat()` instead.\n",
      "2023-03-05 02:28:57.659431: W tensorflow/core/kernels/data/cache_dataset_ops.cc:856] The calling iterator did not fully read the dataset being cached. In order to avoid unexpected truncation of the dataset, the partially cached contents of the dataset  will be discarded. This can happen if you have an input pipeline similar to `dataset.cache().take(k).repeat()`. You should use `dataset.take(k).cache().repeat()` instead.\n"
     ]
    },
    {
     "name": "stdout",
     "output_type": "stream",
     "text": [
      "Label: 4\n"
     ]
    },
    {
     "data": {
      "image/png": "[encoded data removed]",
      "text/plain": [
       "<Figure size 640x480 with 1 Axes>"
      ]
     },
     "metadata": {},
     "output_type": "display_data"
    }
   ],
   "source": [
    "from functools import partial\n",
    "\n",
    "\n",
    "flatten_image = partial(flatten_img, label=True)\n",
    "\n",
    "for image, label in mnist_train.map(flatten_image).cache().take(1):\n",
    "    plt.imshow(image.numpy().reshape(28,28).astype(np.float32),cmap=plt.get_cmap(\"gray\"))\n",
    "    print(\"Label: %d\" % label.numpy())"
   ]
  },
  {
   "cell_type": "code",
   "execution_count": 1,
   "metadata": {},
   "outputs": [
    {
     "name": "stderr",
     "output_type": "stream",
     "text": [
      "2023-03-05 03:18:48.471319: I tensorflow/core/platform/cpu_feature_guard.cc:193] This TensorFlow binary is optimized with oneAPI Deep Neural Network Library (oneDNN) to use the following CPU instructions in performance-critical operations:  AVX2 FMA\n",
      "To enable them in other operations, rebuild TensorFlow with the appropriate compiler flags.\n",
      "2023-03-05 03:18:49.861619: W tensorflow/compiler/xla/stream_executor/platform/default/dso_loader.cc:64] Could not load dynamic library 'libnvinfer.so.7'; dlerror: libnvrtc.so.11.1: cannot open shared object file: No such file or directory; LD_LIBRARY_PATH: :/home/cmatheus/anaconda3/envs/tf-gans/lib/\n",
      "2023-03-05 03:18:49.867483: W tensorflow/compiler/xla/stream_executor/platform/default/dso_loader.cc:64] Could not load dynamic library 'libnvinfer_plugin.so.7'; dlerror: libnvrtc.so.11.1: cannot open shared object file: No such file or directory; LD_LIBRARY_PATH: :/home/cmatheus/anaconda3/envs/tf-gans/lib/\n",
      "2023-03-05 03:18:49.867508: W tensorflow/compiler/tf2tensorrt/utils/py_utils.cc:38] TF-TRT Warning: Cannot dlopen some TensorRT libraries. If you would like to use Nvidia GPU with TensorRT, please make sure the missing libraries mentioned above are installed properly.\n"
     ]
    }
   ],
   "source": [
    "import tensorflow as tf"
   ]
  },
  {
   "cell_type": "code",
   "execution_count": 1,
   "metadata": {},
   "outputs": [
    {
     "name": "stderr",
     "output_type": "stream",
     "text": [
      "2023-03-05 03:21:54.158126: I tensorflow/core/platform/cpu_feature_guard.cc:193] This TensorFlow binary is optimized with oneAPI Deep Neural Network Library (oneDNN) to use the following CPU instructions in performance-critical operations:  AVX2 FMA\n",
      "To enable them in other operations, rebuild TensorFlow with the appropriate compiler flags.\n",
      "2023-03-05 03:21:55.596021: W tensorflow/compiler/xla/stream_executor/platform/default/dso_loader.cc:64] Could not load dynamic library 'libnvinfer.so.7'; dlerror: libnvrtc.so.11.1: cannot open shared object file: No such file or directory; LD_LIBRARY_PATH: :/home/cmatheus/anaconda3/envs/tf-gans/lib/\n",
      "2023-03-05 03:21:55.600220: W tensorflow/compiler/xla/stream_executor/platform/default/dso_loader.cc:64] Could not load dynamic library 'libnvinfer_plugin.so.7'; dlerror: libnvrtc.so.11.1: cannot open shared object file: No such file or directory; LD_LIBRARY_PATH: :/home/cmatheus/anaconda3/envs/tf-gans/lib/\n",
      "2023-03-05 03:21:55.600241: W tensorflow/compiler/tf2tensorrt/utils/py_utils.cc:38] TF-TRT Warning: Cannot dlopen some TensorRT libraries. If you would like to use Nvidia GPU with TensorRT, please make sure the missing libraries mentioned above are installed properly.\n"
     ]
    }
   ],
   "source": [
    "from rbm import RBM"
   ]
  },
  {
   "cell_type": "code",
   "execution_count": 2,
   "metadata": {},
   "outputs": [
    {
     "data": {
      "text/plain": [
       "[784]"
      ]
     },
     "execution_count": 2,
     "metadata": {},
     "output_type": "execute_result"
    }
   ],
   "source": [
    "input_shape=[784]\n",
    "input_shape"
   ]
  },
  {
   "cell_type": "code",
   "execution_count": 3,
   "metadata": {},
   "outputs": [],
   "source": [
    "#tensor_variavel = tf.Variable([0,784], shape=(2,))"
   ]
  },
  {
   "cell_type": "code",
   "execution_count": 4,
   "metadata": {},
   "outputs": [
    {
     "data": {
      "text/plain": [
       "['a', 8]"
      ]
     },
     "execution_count": 4,
     "metadata": {},
     "output_type": "execute_result"
    }
   ],
   "source": [
    "[\"a\",8]"
   ]
  },
  {
   "cell_type": "code",
   "execution_count": 5,
   "metadata": {},
   "outputs": [
    {
     "name": "stdout",
     "output_type": "stream",
     "text": [
      "entrou no if\n",
      "valor 784\n",
      "hidden:(500,)\n"
     ]
    },
    {
     "name": "stderr",
     "output_type": "stream",
     "text": [
      "2023-03-05 03:22:01.982854: I tensorflow/compiler/xla/stream_executor/cuda/cuda_gpu_executor.cc:967] could not open file to read NUMA node: /sys/bus/pci/devices/0000:01:00.0/numa_node\n",
      "Your kernel may have been built without NUMA support.\n",
      "2023-03-05 03:22:02.036171: I tensorflow/compiler/xla/stream_executor/cuda/cuda_gpu_executor.cc:967] could not open file to read NUMA node: /sys/bus/pci/devices/0000:01:00.0/numa_node\n",
      "Your kernel may have been built without NUMA support.\n",
      "2023-03-05 03:22:02.036886: I tensorflow/compiler/xla/stream_executor/cuda/cuda_gpu_executor.cc:967] could not open file to read NUMA node: /sys/bus/pci/devices/0000:01:00.0/numa_node\n",
      "Your kernel may have been built without NUMA support.\n",
      "2023-03-05 03:22:02.040077: I tensorflow/core/platform/cpu_feature_guard.cc:193] This TensorFlow binary is optimized with oneAPI Deep Neural Network Library (oneDNN) to use the following CPU instructions in performance-critical operations:  AVX2 FMA\n",
      "To enable them in other operations, rebuild TensorFlow with the appropriate compiler flags.\n",
      "2023-03-05 03:22:02.042039: I tensorflow/compiler/xla/stream_executor/cuda/cuda_gpu_executor.cc:967] could not open file to read NUMA node: /sys/bus/pci/devices/0000:01:00.0/numa_nod"
     ]
    },
    {
     "name": "stdout",
     "output_type": "stream",
     "text": [
      "784\n",
      "passou vb\n",
      "visible:784\n",
      "hidden:(500,)\n"
     ]
    },
    {
     "name": "stderr",
     "output_type": "stream",
     "text": [
      "e\n",
      "Your kernel may have been built without NUMA support.\n",
      "2023-03-05 03:22:02.042635: I tensorflow/compiler/xla/stream_executor/cuda/cuda_gpu_executor.cc:967] could not open file to read NUMA node: /sys/bus/pci/devices/0000:01:00.0/numa_node\n",
      "Your kernel may have been built without NUMA support.\n",
      "2023-03-05 03:22:02.043169: I tensorflow/compiler/xla/stream_executor/cuda/cuda_gpu_executor.cc:967] could not open file to read NUMA node: /sys/bus/pci/devices/0000:01:00.0/numa_node\n",
      "Your kernel may have been built without NUMA support.\n",
      "2023-03-05 03:22:05.122331: I tensorflow/compiler/xla/stream_executor/cuda/cuda_gpu_executor.cc:967] could not open file to read NUMA node: /sys/bus/pci/devices/0000:01:00.0/numa_node\n",
      "Your kernel may have been built without NUMA support.\n",
      "2023-03-05 03:22:05.122892: I tensorflow/compiler/xla/stream_executor/cuda/cuda_gpu_executor.cc:967] could not open file to read NUMA node: /sys/bus/pci/devices/0000:01:00.0/numa_node\n",
      "Your kernel may have been built without NUMA support.\n",
      "2023-03-05 03:22:05.122911: I tensorflow/core/common_runtime/gpu/gpu_device.cc:1700] Could not identify NUMA node of platform GPU id 0, defaulting to 0.  Your kernel may not have been built with NUMA support.\n",
      "2023-03-05 03:22:05.123396: I tensorflow/compiler/xla/stream_executor/cuda/cuda_gpu_executor.cc:967] could not open file to read NUMA node: /sys/bus/pci/devices/0000:01:00.0/numa_node\n",
      "Your kernel may have been built without NUMA support.\n",
      "2023-03-05 03:22:05.123452: I tensorflow/core/common_runtime/gpu/gpu_device.cc:1613] Created device /job:localhost/replica:0/task:0/device:GPU:0 with 2076 MB memory:  -> device: 0, name: NVIDIA GeForce GTX 1650, pci bus id: 0000:01:00.0, compute capability: 7.5\n"
     ]
    }
   ],
   "source": [
    "rbm_net = RBM([500])\n",
    "#input_shape = tensor_variavel.numpy()\n",
    "#tensor = tf.random.normal(shape)\n",
    "\n",
    "rbm_net.build(input_shape=[784])\n",
    "epochs = 100\n",
    "\n"
   ]
  },
  {
   "cell_type": "code",
   "execution_count": 7,
   "metadata": {},
   "outputs": [
    {
     "ename": "NameError",
     "evalue": "name 'mnist_train' is not defined",
     "output_type": "error",
     "traceback": [
      "\u001b[0;31m---------------------------------------------------------------------------\u001b[0m",
      "\u001b[0;31mNameError\u001b[0m                                 Traceback (most recent call last)",
      "\u001b[1;32m/mnt/o/GANS_BOOK/ch4/generate_digits.ipynb Cell 20\u001b[0m in \u001b[0;36m1\n\u001b[0;32m----> <a href='vscode-notebook-cell://wsl%2Bubuntu-20.04/mnt/o/GANS_BOOK/ch4/generate_digits.ipynb#X30sdnNjb2RlLXJlbW90ZQ%3D%3D?line=0'>1</a>\u001b[0m \u001b[39mdef\u001b[39;00m \u001b[39mtrain_rbm\u001b[39m(rbm\u001b[39m=\u001b[39m\u001b[39mNone\u001b[39;00m,data\u001b[39m=\u001b[39mmnist_train,map_fn\u001b[39m=\u001b[39mflatten_image, num_epochs\u001b[39m=\u001b[39m\u001b[39m100\u001b[39m,\n\u001b[1;32m      <a href='vscode-notebook-cell://wsl%2Bubuntu-20.04/mnt/o/GANS_BOOK/ch4/generate_digits.ipynb#X30sdnNjb2RlLXJlbW90ZQ%3D%3D?line=1'>2</a>\u001b[0m               tolerance\u001b[39m=\u001b[39m\u001b[39m1e-3\u001b[39m,batch_size\u001b[39m=\u001b[39m\u001b[39m32\u001b[39m,shuffle_buffer\u001b[39m=\u001b[39m\u001b[39m1024\u001b[39m):\n\u001b[1;32m      <a href='vscode-notebook-cell://wsl%2Bubuntu-20.04/mnt/o/GANS_BOOK/ch4/generate_digits.ipynb#X30sdnNjb2RlLXJlbW90ZQ%3D%3D?line=2'>3</a>\u001b[0m     last_cost\u001b[39m=\u001b[39m \u001b[39mNone\u001b[39;00m\n\u001b[1;32m      <a href='vscode-notebook-cell://wsl%2Bubuntu-20.04/mnt/o/GANS_BOOK/ch4/generate_digits.ipynb#X30sdnNjb2RlLXJlbW90ZQ%3D%3D?line=4'>5</a>\u001b[0m     \u001b[39mfor\u001b[39;00m epoch \u001b[39min\u001b[39;00m \u001b[39mrange\u001b[39m(num_epochs):\n",
      "\u001b[0;31mNameError\u001b[0m: name 'mnist_train' is not defined"
     ]
    }
   ],
   "source": [
    "def train_rbm(rbm=None,data=mnist_train,map_fn=flatten_image, num_epochs=100,\n",
    "              tolerance=1e-3,batch_size=32,shuffle_buffer=1024):\n",
    "    last_cost= None\n",
    "\n",
    "    for epoch in range(num_epochs):\n",
    "        cost=0.0\n",
    "        count=0.0\n",
    "        for datapoints in data.map(map_fn).shuffle(shuffle_buffer).batch(batch_size):\n",
    "            cost+=rbm.cd_update(datapoints)\n",
    "            count+=1\n",
    "            print(\"epoch: {}, cost: {}\".format(epoch, cost))\n",
    "            if last_cost and abs(last_cost-cost)<= tolerance:\n",
    "                break\n",
    "            last_cost = cost\n",
    "        \n",
    "        return rbm"
   ]
  },
  {
   "cell_type": "code",
   "execution_count": 21,
   "metadata": {},
   "outputs": [
    {
     "name": "stderr",
     "output_type": "stream",
     "text": [
      "2023-03-04 23:35:52.992057: W tensorflow/core/kernels/data/cache_dataset_ops.cc:856] The calling iterator did not fully read the dataset being cached. In order to avoid unexpected truncation of the dataset, the partially cached contents of the dataset  will be discarded. This can happen if you have an input pipeline similar to `dataset.cache().take(k).repeat()`. You should use `dataset.take(k).cache().repeat()` instead.\n"
     ]
    },
    {
     "ename": "AttributeError",
     "evalue": "'RBM' object has no attribute 'hb'",
     "output_type": "error",
     "traceback": [
      "\u001b[0;31m---------------------------------------------------------------------------\u001b[0m",
      "\u001b[0;31mAttributeError\u001b[0m                            Traceback (most recent call last)",
      "\u001b[1;32m/mnt/o/GANS_BOOK/ch4/generate_digits.ipynb Cell 17\u001b[0m in \u001b[0;36m1\n\u001b[0;32m----> <a href='vscode-notebook-cell://wsl%2Bubuntu-20.04/mnt/o/GANS_BOOK/ch4/generate_digits.ipynb#X21sdnNjb2RlLXJlbW90ZQ%3D%3D?line=0'>1</a>\u001b[0m rbm \u001b[39m=\u001b[39m train_rbm(rbm_net, mnist_train, partial(flatten_image, label\u001b[39m=\u001b[39;49m\u001b[39mFalse\u001b[39;49;00m),\n\u001b[1;32m      <a href='vscode-notebook-cell://wsl%2Bubuntu-20.04/mnt/o/GANS_BOOK/ch4/generate_digits.ipynb#X21sdnNjb2RlLXJlbW90ZQ%3D%3D?line=1'>2</a>\u001b[0m \u001b[39m100\u001b[39;49m, \u001b[39m0.5\u001b[39;49m, \u001b[39m2000\u001b[39;49m)\n",
      "\u001b[1;32m/mnt/o/GANS_BOOK/ch4/generate_digits.ipynb Cell 17\u001b[0m in \u001b[0;36m9\n\u001b[1;32m      <a href='vscode-notebook-cell://wsl%2Bubuntu-20.04/mnt/o/GANS_BOOK/ch4/generate_digits.ipynb#X21sdnNjb2RlLXJlbW90ZQ%3D%3D?line=6'>7</a>\u001b[0m count\u001b[39m=\u001b[39m\u001b[39m0.0\u001b[39m\n\u001b[1;32m      <a href='vscode-notebook-cell://wsl%2Bubuntu-20.04/mnt/o/GANS_BOOK/ch4/generate_digits.ipynb#X21sdnNjb2RlLXJlbW90ZQ%3D%3D?line=7'>8</a>\u001b[0m \u001b[39mfor\u001b[39;00m datapoints \u001b[39min\u001b[39;00m data\u001b[39m.\u001b[39mmap(map_fn)\u001b[39m.\u001b[39mshuffle(shuffle_buffer)\u001b[39m.\u001b[39mbatch(batch_size):\n\u001b[0;32m----> <a href='vscode-notebook-cell://wsl%2Bubuntu-20.04/mnt/o/GANS_BOOK/ch4/generate_digits.ipynb#X21sdnNjb2RlLXJlbW90ZQ%3D%3D?line=8'>9</a>\u001b[0m     cost\u001b[39m+\u001b[39m\u001b[39m=\u001b[39mrbm\u001b[39m.\u001b[39;49mcd_update(datapoints)\n\u001b[1;32m     <a href='vscode-notebook-cell://wsl%2Bubuntu-20.04/mnt/o/GANS_BOOK/ch4/generate_digits.ipynb#X21sdnNjb2RlLXJlbW90ZQ%3D%3D?line=9'>10</a>\u001b[0m     count\u001b[39m+\u001b[39m\u001b[39m=\u001b[39m\u001b[39m1\u001b[39m\n\u001b[1;32m     <a href='vscode-notebook-cell://wsl%2Bubuntu-20.04/mnt/o/GANS_BOOK/ch4/generate_digits.ipynb#X21sdnNjb2RlLXJlbW90ZQ%3D%3D?line=10'>11</a>\u001b[0m     \u001b[39mprint\u001b[39m(\u001b[39m\"\u001b[39m\u001b[39mepoch: \u001b[39m\u001b[39m{}\u001b[39;00m\u001b[39m, cost: \u001b[39m\u001b[39m{}\u001b[39;00m\u001b[39m\"\u001b[39m\u001b[39m.\u001b[39mformat(epoch, cost))\n",
      "File \u001b[0;32m/mnt/o/GANS_BOOK/ch4/rbm.py:114\u001b[0m, in \u001b[0;36mRBM.cd_update\u001b[0;34m(self, x)\u001b[0m\n\u001b[1;32m    112\u001b[0m \u001b[39mdef\u001b[39;00m \u001b[39mcd_update\u001b[39m(\u001b[39mself\u001b[39m,x):\n\u001b[1;32m    113\u001b[0m     \u001b[39mwith\u001b[39;00m tf\u001b[39m.\u001b[39mGradientTape(watch_accessed_variables\u001b[39m=\u001b[39m\u001b[39mFalse\u001b[39;00m)\u001b[39mas\u001b[39;00m g:\n\u001b[0;32m--> 114\u001b[0m         h_sample\u001b[39m=\u001b[39m\u001b[39mself\u001b[39;49m\u001b[39m.\u001b[39;49msample_h(x)\n\u001b[1;32m    115\u001b[0m         \u001b[39mfor\u001b[39;00m step \u001b[39min\u001b[39;00m \u001b[39mrange\u001b[39m(\u001b[39mself\u001b[39m\u001b[39m.\u001b[39mcd_steps):\n\u001b[1;32m    116\u001b[0m             v_sample\u001b[39m=\u001b[39m tf\u001b[39m.\u001b[39mconstant(\u001b[39mself\u001b[39m\u001b[39m.\u001b[39msample_v(h_sample))\n",
      "File \u001b[0;32m/mnt/o/GANS_BOOK/ch4/rbm.py:36\u001b[0m, in \u001b[0;36mRBM.sample_h\u001b[0;34m(self, x)\u001b[0m\n\u001b[1;32m     33\u001b[0m \u001b[39mdef\u001b[39;00m \u001b[39msample_h\u001b[39m(\u001b[39mself\u001b[39m,x):\n\u001b[1;32m     34\u001b[0m     u_sample \u001b[39m=\u001b[39m tfp\u001b[39m.\u001b[39mdistributions\u001b[39m.\u001b[39mUniform()\u001b[39m.\u001b[39msample((\n\u001b[1;32m     35\u001b[0m         x\u001b[39m.\u001b[39mshape[\u001b[39m1\u001b[39m],\n\u001b[0;32m---> 36\u001b[0m         \u001b[39mself\u001b[39;49m\u001b[39m.\u001b[39;49mhb\u001b[39m.\u001b[39mshape[\u001b[39m-\u001b[39m\u001b[39m1\u001b[39m]\n\u001b[1;32m     37\u001b[0m     ))\n\u001b[1;32m     39\u001b[0m     \u001b[39mreturn\u001b[39;00m tf\u001b[39m.\u001b[39mcast(\u001b[39mself\u001b[39m\u001b[39m.\u001b[39mforward(x)\u001b[39m>\u001b[39m u_sample,tf\u001b[39m.\u001b[39mfloat32 )\n",
      "\u001b[0;31mAttributeError\u001b[0m: 'RBM' object has no attribute 'hb'"
     ]
    }
   ],
   "source": [
    "rbm = train_rbm(rbm_net, mnist_train, partial(flatten_image, label=False),\n",
    "100, 0.5, 2000)"
   ]
  },
  {
   "cell_type": "code",
   "execution_count": null,
   "metadata": {},
   "outputs": [],
   "source": []
  }
 ],
 "metadata": {
  "kernelspec": {
   "display_name": "tf-gans",
   "language": "python",
   "name": "python3"
  },
  "language_info": {
   "codemirror_mode": {
    "name": "ipython",
    "version": 3
   },
   "file_extension": ".py",
   "mimetype": "text/x-python",
   "name": "python",
   "nbconvert_exporter": "python",
   "pygments_lexer": "ipython3",
   "version": "3.9.16"
  },
  "orig_nbformat": 4,
  "vscode": {
   "interpreter": {
    "hash": "57f550488c8d9af80fcdda2e1a7747e1fda458a81cf4915bb2a9b6e47e66e823"
   }
  }
 },
 "nbformat": 4,
 "nbformat_minor": 2
}
